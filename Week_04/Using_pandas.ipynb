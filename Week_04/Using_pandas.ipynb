{
 "cells": [
  {
   "cell_type": "markdown",
   "source": [
    "# Using of pandas"
   ],
   "metadata": {}
  },
  {
   "cell_type": "code",
   "execution_count": 12,
   "source": [
    "import pandas as pd"
   ],
   "outputs": [],
   "metadata": {}
  },
  {
   "cell_type": "markdown",
   "source": [
    "# Read CSV files"
   ],
   "metadata": {}
  },
  {
   "cell_type": "code",
   "execution_count": 22,
   "source": [
    "df_confirmed = pd.read_csv('../CSVs/time_series_covid19_confirmed_global.csv')\r\n",
    "df_deaths = pd.read_csv('../CSVs/time_series_covid19_deaths_global.csv')\r\n",
    "df_recovered = pd.read_csv('../CSVs/time_series_covid19_recovered_global.csv')"
   ],
   "outputs": [],
   "metadata": {}
  },
  {
   "cell_type": "code",
   "execution_count": 21,
   "source": [
    "print(df_confirmed)"
   ],
   "outputs": [
    {
     "output_type": "stream",
     "name": "stdout",
     "text": [
      "    Province/State      Country/Region        Lat        Long  1/22/20  \\\n",
      "0              NaN         Afghanistan  33.939110   67.709953        0   \n",
      "1              NaN             Albania  41.153300   20.168300        0   \n",
      "2              NaN             Algeria  28.033900    1.659600        0   \n",
      "3              NaN             Andorra  42.506300    1.521800        0   \n",
      "4              NaN              Angola -11.202700   17.873900        0   \n",
      "..             ...                 ...        ...         ...      ...   \n",
      "274            NaN             Vietnam  14.058324  108.277199        0   \n",
      "275            NaN  West Bank and Gaza  31.952200   35.233200        0   \n",
      "276            NaN               Yemen  15.552727   48.516388        0   \n",
      "277            NaN              Zambia -13.133897   27.849332        0   \n",
      "278            NaN            Zimbabwe -19.015438   29.154857        0   \n",
      "\n",
      "     1/23/20  1/24/20  1/25/20  1/26/20  1/27/20  ...  9/18/21  9/19/21  \\\n",
      "0          0        0        0        0        0  ...   154487   154487   \n",
      "1          0        0        0        0        0  ...   162173   162953   \n",
      "2          0        0        0        0        0  ...   201425   201600   \n",
      "3          0        0        0        0        0  ...    15124    15124   \n",
      "4          0        0        0        0        0  ...    52307    52307   \n",
      "..       ...      ...      ...      ...      ...  ...      ...      ...   \n",
      "274        2        2        2        2        2  ...   677023   687063   \n",
      "275        0        0        0        0        0  ...   382584   384390   \n",
      "276        0        0        0        0        0  ...     8630     8667   \n",
      "277        0        0        0        0        0  ...   208422   208469   \n",
      "278        0        0        0        0        0  ...   127739   127938   \n",
      "\n",
      "     9/20/21  9/21/21  9/22/21  9/23/21  9/24/21  9/25/21  9/26/21  9/27/21  \n",
      "0     154585   154712   154757   154800   154960   154960   154960   155072  \n",
      "1     163404   164276   165096   165864   166690   167354   167893   168188  \n",
      "2     201766   201948   202122   202283   202449   202574   202722   202877  \n",
      "3      15140    15140    15153    15156    15167    15167    15167    15189  \n",
      "4      52644    52968    53387    53840    54280    54795    55121    55583  \n",
      "..       ...      ...      ...      ...      ...      ...      ...      ...  \n",
      "274   695744   707436   718963   728435   736972   746678   756689   766051  \n",
      "275   386493   388470   390369   392452   394683   395677   396746   398946  \n",
      "276     8718     8752     8789     8830     8861     8891     8934     8988  \n",
      "277   208502   208599   208676   208715   208778   208829   208857   208867  \n",
      "278   128186   128186   128804   129134   129134   129505   129625   129919  \n",
      "\n",
      "[279 rows x 619 columns]\n"
     ]
    }
   ],
   "metadata": {}
  },
  {
   "cell_type": "markdown",
   "source": [
    "# Locate row\r\n",
    "to show data from one or more specified row(s)"
   ],
   "metadata": {}
  },
  {
   "cell_type": "code",
   "execution_count": 23,
   "source": [
    "# Show data from first 3 rows\r\n",
    "print(df_confirmed.loc[[0, 1, 2]])"
   ],
   "outputs": [
    {
     "output_type": "stream",
     "name": "stdout",
     "text": [
      "  Province/State Country/Region       Lat       Long  1/22/20  1/23/20  \\\n",
      "0            NaN    Afghanistan  33.93911  67.709953        0        0   \n",
      "1            NaN        Albania  41.15330  20.168300        0        0   \n",
      "2            NaN        Algeria  28.03390   1.659600        0        0   \n",
      "\n",
      "   1/24/20  1/25/20  1/26/20  1/27/20  ...  9/18/21  9/19/21  9/20/21  \\\n",
      "0        0        0        0        0  ...   154487   154487   154585   \n",
      "1        0        0        0        0  ...   162173   162953   163404   \n",
      "2        0        0        0        0  ...   201425   201600   201766   \n",
      "\n",
      "   9/21/21  9/22/21  9/23/21  9/24/21  9/25/21  9/26/21  9/27/21  \n",
      "0   154712   154757   154800   154960   154960   154960   155072  \n",
      "1   164276   165096   165864   166690   167354   167893   168188  \n",
      "2   201948   202122   202283   202449   202574   202722   202877  \n",
      "\n",
      "[3 rows x 619 columns]\n"
     ]
    }
   ],
   "metadata": {}
  },
  {
   "cell_type": "code",
   "execution_count": null,
   "source": [],
   "outputs": [],
   "metadata": {}
  }
 ],
 "metadata": {
  "interpreter": {
   "hash": "63fd5069d213b44bf678585dea6b12cceca9941eaf7f819626cde1f2670de90d"
  },
  "kernelspec": {
   "name": "python3",
   "display_name": "Python 3.9.7 64-bit"
  },
  "language_info": {
   "codemirror_mode": {
    "name": "ipython",
    "version": 3
   },
   "file_extension": ".py",
   "mimetype": "text/x-python",
   "name": "python",
   "nbconvert_exporter": "python",
   "pygments_lexer": "ipython3",
   "version": "3.9.7"
  }
 },
 "nbformat": 4,
 "nbformat_minor": 5
}